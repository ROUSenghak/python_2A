{
 "cells": [
  {
   "cell_type": "code",
   "execution_count": 4,
   "id": "7661f153",
   "metadata": {},
   "outputs": [],
   "source": [
    "import numpy as np"
   ]
  },
  {
   "cell_type": "code",
   "execution_count": null,
   "id": "15743efa",
   "metadata": {},
   "outputs": [
    {
     "data": {
      "text/plain": [
       "(array([0.22733602, 0.31675834, 0.79736546, 0.67625467, 0.39110955,\n",
       "        0.33281393, 0.59830875, 0.18673419, 0.67275604, 0.94180287]),\n",
       " array([0.24824571, 0.94888115, 0.66723745, 0.09589794, 0.44183967,\n",
       "        0.88647992, 0.6974535 , 0.32647286, 0.73392816, 0.22013496]))"
      ]
     },
     "execution_count": 10,
     "metadata": {},
     "output_type": "execute_result"
    }
   ],
   "source": [
    "#exo1\n",
    "\n",
    "rng = np.random.default_rng(seed=12345)\n",
    "X1 = rng.uniform(0,1,10)\n",
    "X2 = rng.uniform(size=10)\n",
    "X1, X2"
   ]
  },
  {
   "cell_type": "code",
   "execution_count": 18,
   "id": "7e07dbfc",
   "metadata": {},
   "outputs": [
    {
     "data": {
      "text/plain": [
       "array([0, 1, 2, 3, 4])"
      ]
     },
     "execution_count": 18,
     "metadata": {},
     "output_type": "execute_result"
    }
   ],
   "source": [
    "#exo2\n",
    "\n",
    "x = np.arange(10)\n",
    "\n",
    "x[[0, 3, 5]]\n",
    "x[x%2 == 0]\n",
    "x[1:]\n",
    "x[:5]"
   ]
  },
  {
   "cell_type": "code",
   "execution_count": null,
   "id": "22bbc91c",
   "metadata": {},
   "outputs": [
    {
     "name": "stdout",
     "output_type": "stream",
     "text": [
      "4.97%\n",
      "200.81%\n"
     ]
    }
   ],
   "source": [
    "#exo3\n",
    "\n",
    "x = rng.standard_normal(size=10000)\n",
    "\n",
    "print(f\"{len(x[np.abs(x) > 1.96])/len(x):0.2%}\")\n",
    "print(f\"{np.sum(x[np.abs(x) > 1.96])/np.sum(x):0.2%}\")\n",
    "\n",
    "\n"
   ]
  },
  {
   "cell_type": "code",
   "execution_count": null,
   "id": "d81231f2",
   "metadata": {},
   "outputs": [
    {
     "name": "stdout",
     "output_type": "stream",
     "text": [
      "Count_nonzro y: 2\n",
      "Isnan y: [ True False False]\n",
      "[[-0.16755984 -0.84130562  0.10413851 -0.93523199]\n",
      " [ 0.00936821  1.0444189   1.15236599  0.12656809]\n",
      " [-1.80848028  1.2564038  -0.14153494 -1.80345655]]\n"
     ]
    },
    {
     "data": {
      "text/plain": [
       "array([ True,  True,  True,  True])"
      ]
     },
     "execution_count": 26,
     "metadata": {},
     "output_type": "execute_result"
    }
   ],
   "source": [
    "#exo4\n",
    "\n",
    "#assuming rng has been created beforhand\n",
    "\n",
    "x = rng.normal(0, size=(3,4))\n",
    "y = np.array([np.nan, 0, 1])\n",
    "\n",
    "print(f\"Count_nonzro y: {np.count_nonzero(y)}\")\n",
    "print(f\"Isnan y: {np.isnan(y)}\")\n",
    "\n",
    "print(x)\n",
    "np.any(x>0, axis=0)"
   ]
  },
  {
   "cell_type": "code",
   "execution_count": 31,
   "id": "c679fa3f",
   "metadata": {},
   "outputs": [
    {
     "name": "stdout",
     "output_type": "stream",
     "text": [
      "[[ 0.3567917   0.62551691 -0.29024501  0.76474249]\n",
      " [-0.20381412 -0.67465706  1.23253    -0.52332696]\n",
      " [-2.25476646 -1.44144719  2.02209899 -0.51940949]]\n",
      "[ 1.45680609 -0.16926815 -2.19352414]\n",
      "[-2.10178888 -1.49058734  2.96438397 -0.27799396]\n",
      "-0.9059862081553914\n"
     ]
    }
   ],
   "source": [
    "#exo5\n",
    "\n",
    "x = rng.normal(0, size=(3, 4))\n",
    "print(x)\n",
    "\n",
    "print(np.sum(x, axis=1))\n",
    "print(np.sum(x, axis=0))\n",
    "print(np.sum(x))"
   ]
  },
  {
   "cell_type": "code",
   "execution_count": null,
   "id": "c0ded6a5",
   "metadata": {},
   "outputs": [],
   "source": []
  },
  {
   "cell_type": "code",
   "execution_count": null,
   "id": "7311f168",
   "metadata": {},
   "outputs": [],
   "source": []
  },
  {
   "cell_type": "code",
   "execution_count": null,
   "id": "8ce6ba99",
   "metadata": {},
   "outputs": [],
   "source": []
  },
  {
   "cell_type": "code",
   "execution_count": null,
   "id": "5f23e3a8",
   "metadata": {},
   "outputs": [],
   "source": []
  }
 ],
 "metadata": {
  "kernelspec": {
   "display_name": "Python 3",
   "language": "python",
   "name": "python3"
  },
  "language_info": {
   "codemirror_mode": {
    "name": "ipython",
    "version": 3
   },
   "file_extension": ".py",
   "mimetype": "text/x-python",
   "name": "python",
   "nbconvert_exporter": "python",
   "pygments_lexer": "ipython3",
   "version": "3.13.7"
  }
 },
 "nbformat": 4,
 "nbformat_minor": 5
}
